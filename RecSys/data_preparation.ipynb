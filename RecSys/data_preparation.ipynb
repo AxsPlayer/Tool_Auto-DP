{
 "cells": [
  {
   "cell_type": "code",
   "execution_count": 1,
   "metadata": {
    "ExecuteTime": {
     "end_time": "2018-07-09T15:11:04.697968Z",
     "start_time": "2018-07-09T15:11:03.962429Z"
    },
    "collapsed": true
   },
   "outputs": [],
   "source": [
    "# Import necessary package.\n",
    "import numpy as np  \n",
    "import pandas as pd"
   ]
  },
  {
   "cell_type": "code",
   "execution_count": null,
   "metadata": {
    "collapsed": true,
    "slideshow": {
     "slide_type": "notes"
    }
   },
   "outputs": [],
   "source": [
    "# Read data from csv file.\n",
    "rating_data = pd.read_csv('data/rating.csv')\n",
    "# Format and Column Name.\n",
    "# 'user_id' 'anime_id' 'rating'\n",
    "#     1          3       6.5"
   ]
  },
  {
   "cell_type": "code",
   "execution_count": null,
   "metadata": {
    "collapsed": true
   },
   "outputs": [],
   "source": [
    "# Convert data into UxM-Matrix, with unknown ratings as zeros.\n",
    "rating_data = rating_data.drop_duplicates(subset=['user_id', 'anime_id'], keep='first') # Delete the duplicate with error.\n",
    "rating_matrix = rating_data.reset_index().pivot(index='user_id', columns='anime_id', values='rating')"
   ]
  },
  {
   "cell_type": "code",
   "execution_count": null,
   "metadata": {
    "collapsed": true
   },
   "outputs": [],
   "source": [
    "# Fill Na with -1.\n",
    "rating_matrix = rating_matrix.fillna(-1)"
   ]
  },
  {
   "cell_type": "code",
   "execution_count": null,
   "metadata": {
    "collapsed": true
   },
   "outputs": [],
   "source": [
    "# Split data into train and validation data.\n",
    "train_matrix, validation_matrix = train_test_split(rating_matrix, \n",
    "                                                   test_size=0.2,\n",
    "                                                   random_state=36)"
   ]
  }
 ],
 "metadata": {
  "kernelspec": {
   "display_name": "Python 2",
   "language": "python",
   "name": "python2"
  },
  "language_info": {
   "codemirror_mode": {
    "name": "ipython",
    "version": 2
   },
   "file_extension": ".py",
   "mimetype": "text/x-python",
   "name": "python",
   "nbconvert_exporter": "python",
   "pygments_lexer": "ipython2",
   "version": "2.7.13"
  }
 },
 "nbformat": 4,
 "nbformat_minor": 2
}
